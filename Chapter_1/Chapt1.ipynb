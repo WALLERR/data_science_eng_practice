{
 "cells": [
  {
   "cell_type": "code",
   "execution_count": 2,
   "metadata": {},
   "outputs": [],
   "source": [
    "path = 'clogit.csv'"
   ]
  },
  {
   "cell_type": "code",
   "execution_count": 3,
   "metadata": {},
   "outputs": [
    {
     "name": "stderr",
     "output_type": "stream",
     "text": [
      "/root/miniconda3/lib/python3.7/site-packages/statsmodels/compat/pandas.py:49: FutureWarning: The Panel class is removed from pandas. Accessing it from the top-level namespace will also be removed in the next version\n",
      "  data_klasses = (pandas.Series, pandas.DataFrame, pandas.Panel)\n"
     ]
    }
   ],
   "source": [
    "from collections import OrderedDict\n",
    "import pylogit as pl\n",
    "import numpy as np\n",
    "import pandas as pd\n",
    "import statsmodels.api as sm\n",
    "from sklearn.model_selection import train_test_split\n",
    "from sklearn import metrics\n",
    "import matplotlib.pyplot as plt\n",
    "import scipy"
   ]
  },
  {
   "cell_type": "markdown",
   "metadata": {},
   "source": [
    "## 1. Process data"
   ]
  },
  {
   "cell_type": "code",
   "execution_count": 4,
   "metadata": {},
   "outputs": [],
   "source": [
    "raw_data = pd.read_csv(path)"
   ]
  },
  {
   "cell_type": "code",
   "execution_count": 5,
   "metadata": {},
   "outputs": [],
   "source": [
    "columns = [item.strip() for item in raw_data.columns]\n",
    "raw_data.columns = columns"
   ]
  },
  {
   "cell_type": "code",
   "execution_count": 6,
   "metadata": {},
   "outputs": [
    {
     "data": {
      "text/html": [
       "<div>\n",
       "<style scoped>\n",
       "    .dataframe tbody tr th:only-of-type {\n",
       "        vertical-align: middle;\n",
       "    }\n",
       "\n",
       "    .dataframe tbody tr th {\n",
       "        vertical-align: top;\n",
       "    }\n",
       "\n",
       "    .dataframe thead th {\n",
       "        text-align: right;\n",
       "    }\n",
       "</style>\n",
       "<table border=\"1\" class=\"dataframe\">\n",
       "  <thead>\n",
       "    <tr style=\"text-align: right;\">\n",
       "      <th></th>\n",
       "      <th>MODE</th>\n",
       "      <th>TTME</th>\n",
       "      <th>INVC</th>\n",
       "      <th>INVT</th>\n",
       "      <th>GC</th>\n",
       "      <th>CHAIR</th>\n",
       "      <th>HINC</th>\n",
       "      <th>PSIZE</th>\n",
       "      <th>AASC</th>\n",
       "      <th>TASC</th>\n",
       "      <th>BASC</th>\n",
       "      <th>CASC</th>\n",
       "      <th>HINCA</th>\n",
       "      <th>PSIZEA</th>\n",
       "    </tr>\n",
       "  </thead>\n",
       "  <tbody>\n",
       "    <tr>\n",
       "      <th>0</th>\n",
       "      <td>0</td>\n",
       "      <td>69</td>\n",
       "      <td>59</td>\n",
       "      <td>100</td>\n",
       "      <td>70</td>\n",
       "      <td>0</td>\n",
       "      <td>35</td>\n",
       "      <td>1</td>\n",
       "      <td>1</td>\n",
       "      <td>0</td>\n",
       "      <td>0</td>\n",
       "      <td>0</td>\n",
       "      <td>35</td>\n",
       "      <td>1</td>\n",
       "    </tr>\n",
       "    <tr>\n",
       "      <th>1</th>\n",
       "      <td>0</td>\n",
       "      <td>34</td>\n",
       "      <td>31</td>\n",
       "      <td>372</td>\n",
       "      <td>71</td>\n",
       "      <td>0</td>\n",
       "      <td>35</td>\n",
       "      <td>1</td>\n",
       "      <td>0</td>\n",
       "      <td>1</td>\n",
       "      <td>0</td>\n",
       "      <td>0</td>\n",
       "      <td>0</td>\n",
       "      <td>0</td>\n",
       "    </tr>\n",
       "    <tr>\n",
       "      <th>2</th>\n",
       "      <td>0</td>\n",
       "      <td>35</td>\n",
       "      <td>25</td>\n",
       "      <td>417</td>\n",
       "      <td>70</td>\n",
       "      <td>0</td>\n",
       "      <td>35</td>\n",
       "      <td>1</td>\n",
       "      <td>0</td>\n",
       "      <td>0</td>\n",
       "      <td>1</td>\n",
       "      <td>0</td>\n",
       "      <td>0</td>\n",
       "      <td>0</td>\n",
       "    </tr>\n",
       "    <tr>\n",
       "      <th>3</th>\n",
       "      <td>1</td>\n",
       "      <td>0</td>\n",
       "      <td>10</td>\n",
       "      <td>180</td>\n",
       "      <td>30</td>\n",
       "      <td>0</td>\n",
       "      <td>35</td>\n",
       "      <td>1</td>\n",
       "      <td>0</td>\n",
       "      <td>0</td>\n",
       "      <td>0</td>\n",
       "      <td>1</td>\n",
       "      <td>0</td>\n",
       "      <td>0</td>\n",
       "    </tr>\n",
       "    <tr>\n",
       "      <th>4</th>\n",
       "      <td>0</td>\n",
       "      <td>64</td>\n",
       "      <td>58</td>\n",
       "      <td>68</td>\n",
       "      <td>68</td>\n",
       "      <td>0</td>\n",
       "      <td>30</td>\n",
       "      <td>2</td>\n",
       "      <td>1</td>\n",
       "      <td>0</td>\n",
       "      <td>0</td>\n",
       "      <td>0</td>\n",
       "      <td>30</td>\n",
       "      <td>2</td>\n",
       "    </tr>\n",
       "  </tbody>\n",
       "</table>\n",
       "</div>"
      ],
      "text/plain": [
       "   MODE  TTME  INVC  INVT  GC  CHAIR  HINC  PSIZE  AASC  TASC  BASC  CASC  \\\n",
       "0     0    69    59   100  70      0    35      1     1     0     0     0   \n",
       "1     0    34    31   372  71      0    35      1     0     1     0     0   \n",
       "2     0    35    25   417  70      0    35      1     0     0     1     0   \n",
       "3     1     0    10   180  30      0    35      1     0     0     0     1   \n",
       "4     0    64    58    68  68      0    30      2     1     0     0     0   \n",
       "\n",
       "   HINCA  PSIZEA  \n",
       "0     35       1  \n",
       "1      0       0  \n",
       "2      0       0  \n",
       "3      0       0  \n",
       "4     30       2  "
      ]
     },
     "execution_count": 6,
     "metadata": {},
     "output_type": "execute_result"
    }
   ],
   "source": [
    "raw_data.head(5)"
   ]
  },
  {
   "cell_type": "code",
   "execution_count": 7,
   "metadata": {},
   "outputs": [],
   "source": [
    "# data describe\n",
    "# HINC: home income\n",
    "# PSIZE: travel people count\n",
    "# TTIME: waiting time in station\n",
    "# INVC: money cost\n",
    "# INVT: time cost"
   ]
  },
  {
   "cell_type": "code",
   "execution_count": 8,
   "metadata": {},
   "outputs": [
    {
     "data": {
      "text/plain": [
       "['TTME_AIR',\n",
       " 'TTME_TRAIN',\n",
       " 'TTME_BUS',\n",
       " 'TTME_CAR',\n",
       " 'INVC_AIR',\n",
       " 'INVC_TRAIN',\n",
       " 'INVC_BUS',\n",
       " 'INVC_CAR',\n",
       " 'INVT_AIR',\n",
       " 'INVT_TRAIN',\n",
       " 'INVT_BUS',\n",
       " 'INVT_CAR']"
      ]
     },
     "execution_count": 8,
     "metadata": {},
     "output_type": "execute_result"
    }
   ],
   "source": [
    "cols = ['TTME', 'INVC', 'INVT']\n",
    "modes = ['AIR', 'TRAIN', 'BUS', 'CAR']\n",
    "new_col = [item1 + '_' + item2 for item1 in cols for item2 in modes]\n",
    "new_col"
   ]
  },
  {
   "cell_type": "code",
   "execution_count": 9,
   "metadata": {},
   "outputs": [],
   "source": [
    "model_data = pd.DataFrame(columns=[\n",
    "    'OBS_ID',\n",
    "    'HINC',\n",
    "    'PSIZE'\n",
    "] + new_col + ['y'])"
   ]
  },
  {
   "cell_type": "code",
   "execution_count": 10,
   "metadata": {},
   "outputs": [],
   "source": [
    "data_AASC = raw_data[raw_data['AASC'] == 1]\n",
    "data_TASC = raw_data[raw_data['TASC'] == 1]\n",
    "data_BASC = raw_data[raw_data['BASC'] == 1]\n",
    "data_CASC = raw_data[raw_data['CASC'] == 1]"
   ]
  },
  {
   "cell_type": "code",
   "execution_count": 11,
   "metadata": {},
   "outputs": [],
   "source": [
    "def fill_dt(data_frame, item='TTME', mode='AIR'):\n",
    "    for idx in data_frame.index:\n",
    "        row = idx//4\n",
    "        model_data.loc[row, item+'_'+mode] = raw_data.loc[idx, item]"
   ]
  },
  {
   "cell_type": "code",
   "execution_count": 12,
   "metadata": {},
   "outputs": [],
   "source": [
    "for item in cols:\n",
    "    fill_dt(data_AASC, item, 'AIR')\n",
    "    fill_dt(data_TASC, item, 'TRAIN')\n",
    "    fill_dt(data_BASC, item, 'BUS')\n",
    "    fill_dt(data_CASC, item, 'CAR')"
   ]
  },
  {
   "cell_type": "code",
   "execution_count": 13,
   "metadata": {},
   "outputs": [],
   "source": [
    "for idx in range(model_data.shape[0]):\n",
    "    row = idx*4\n",
    "    model_data.loc[idx, 'OBS_ID'] = idx\n",
    "    model_data.loc[idx, 'HINC'] = raw_data.loc[row, 'HINC']\n",
    "    model_data.loc[idx, 'PSIZE'] = raw_data.loc[row, 'PSIZEA']\n",
    "    model_data.loc[idx, 'y'] = (raw_data.loc[row+3, 'MODE'] == raw_data.loc[row+3, 'CASC']).astype(int)"
   ]
  },
  {
   "cell_type": "code",
   "execution_count": 14,
   "metadata": {},
   "outputs": [],
   "source": [
    "model_data = model_data.drop(columns=['TTME_CAR'])\n",
    "model_data = model_data.set_index('OBS_ID')"
   ]
  },
  {
   "cell_type": "code",
   "execution_count": 15,
   "metadata": {},
   "outputs": [
    {
     "data": {
      "text/html": [
       "<div>\n",
       "<style scoped>\n",
       "    .dataframe tbody tr th:only-of-type {\n",
       "        vertical-align: middle;\n",
       "    }\n",
       "\n",
       "    .dataframe tbody tr th {\n",
       "        vertical-align: top;\n",
       "    }\n",
       "\n",
       "    .dataframe thead th {\n",
       "        text-align: right;\n",
       "    }\n",
       "</style>\n",
       "<table border=\"1\" class=\"dataframe\">\n",
       "  <thead>\n",
       "    <tr style=\"text-align: right;\">\n",
       "      <th></th>\n",
       "      <th>HINC</th>\n",
       "      <th>PSIZE</th>\n",
       "      <th>TTME_AIR</th>\n",
       "      <th>TTME_TRAIN</th>\n",
       "      <th>TTME_BUS</th>\n",
       "      <th>INVC_AIR</th>\n",
       "      <th>INVC_TRAIN</th>\n",
       "      <th>INVC_BUS</th>\n",
       "      <th>INVC_CAR</th>\n",
       "      <th>INVT_AIR</th>\n",
       "      <th>INVT_TRAIN</th>\n",
       "      <th>INVT_BUS</th>\n",
       "      <th>INVT_CAR</th>\n",
       "      <th>y</th>\n",
       "    </tr>\n",
       "    <tr>\n",
       "      <th>OBS_ID</th>\n",
       "      <th></th>\n",
       "      <th></th>\n",
       "      <th></th>\n",
       "      <th></th>\n",
       "      <th></th>\n",
       "      <th></th>\n",
       "      <th></th>\n",
       "      <th></th>\n",
       "      <th></th>\n",
       "      <th></th>\n",
       "      <th></th>\n",
       "      <th></th>\n",
       "      <th></th>\n",
       "      <th></th>\n",
       "    </tr>\n",
       "  </thead>\n",
       "  <tbody>\n",
       "    <tr>\n",
       "      <th>0</th>\n",
       "      <td>35</td>\n",
       "      <td>1</td>\n",
       "      <td>69</td>\n",
       "      <td>34</td>\n",
       "      <td>35</td>\n",
       "      <td>59</td>\n",
       "      <td>31</td>\n",
       "      <td>25</td>\n",
       "      <td>10</td>\n",
       "      <td>100</td>\n",
       "      <td>372</td>\n",
       "      <td>417</td>\n",
       "      <td>180</td>\n",
       "      <td>1</td>\n",
       "    </tr>\n",
       "    <tr>\n",
       "      <th>1</th>\n",
       "      <td>30</td>\n",
       "      <td>2</td>\n",
       "      <td>64</td>\n",
       "      <td>44</td>\n",
       "      <td>53</td>\n",
       "      <td>58</td>\n",
       "      <td>31</td>\n",
       "      <td>25</td>\n",
       "      <td>11</td>\n",
       "      <td>68</td>\n",
       "      <td>354</td>\n",
       "      <td>399</td>\n",
       "      <td>255</td>\n",
       "      <td>1</td>\n",
       "    </tr>\n",
       "    <tr>\n",
       "      <th>2</th>\n",
       "      <td>40</td>\n",
       "      <td>1</td>\n",
       "      <td>69</td>\n",
       "      <td>34</td>\n",
       "      <td>35</td>\n",
       "      <td>115</td>\n",
       "      <td>98</td>\n",
       "      <td>53</td>\n",
       "      <td>23</td>\n",
       "      <td>125</td>\n",
       "      <td>892</td>\n",
       "      <td>882</td>\n",
       "      <td>720</td>\n",
       "      <td>1</td>\n",
       "    </tr>\n",
       "    <tr>\n",
       "      <th>3</th>\n",
       "      <td>70</td>\n",
       "      <td>3</td>\n",
       "      <td>64</td>\n",
       "      <td>44</td>\n",
       "      <td>53</td>\n",
       "      <td>49</td>\n",
       "      <td>26</td>\n",
       "      <td>21</td>\n",
       "      <td>5</td>\n",
       "      <td>68</td>\n",
       "      <td>354</td>\n",
       "      <td>399</td>\n",
       "      <td>180</td>\n",
       "      <td>1</td>\n",
       "    </tr>\n",
       "    <tr>\n",
       "      <th>4</th>\n",
       "      <td>45</td>\n",
       "      <td>2</td>\n",
       "      <td>64</td>\n",
       "      <td>44</td>\n",
       "      <td>53</td>\n",
       "      <td>60</td>\n",
       "      <td>32</td>\n",
       "      <td>26</td>\n",
       "      <td>8</td>\n",
       "      <td>144</td>\n",
       "      <td>404</td>\n",
       "      <td>449</td>\n",
       "      <td>600</td>\n",
       "      <td>1</td>\n",
       "    </tr>\n",
       "  </tbody>\n",
       "</table>\n",
       "</div>"
      ],
      "text/plain": [
       "       HINC PSIZE TTME_AIR TTME_TRAIN TTME_BUS INVC_AIR INVC_TRAIN INVC_BUS  \\\n",
       "OBS_ID                                                                        \n",
       "0        35     1       69         34       35       59         31       25   \n",
       "1        30     2       64         44       53       58         31       25   \n",
       "2        40     1       69         34       35      115         98       53   \n",
       "3        70     3       64         44       53       49         26       21   \n",
       "4        45     2       64         44       53       60         32       26   \n",
       "\n",
       "       INVC_CAR INVT_AIR INVT_TRAIN INVT_BUS INVT_CAR  y  \n",
       "OBS_ID                                                    \n",
       "0            10      100        372      417      180  1  \n",
       "1            11       68        354      399      255  1  \n",
       "2            23      125        892      882      720  1  \n",
       "3             5       68        354      399      180  1  \n",
       "4             8      144        404      449      600  1  "
      ]
     },
     "execution_count": 15,
     "metadata": {},
     "output_type": "execute_result"
    }
   ],
   "source": [
    "model_data.head(5)"
   ]
  },
  {
   "cell_type": "markdown",
   "metadata": {},
   "source": [
    "## 2. Data information"
   ]
  },
  {
   "cell_type": "code",
   "execution_count": 16,
   "metadata": {},
   "outputs": [
    {
     "name": "stdout",
     "output_type": "stream",
     "text": [
      "<class 'pandas.core.frame.DataFrame'>\n",
      "Int64Index: 210 entries, 0 to 209\n",
      "Data columns (total 14 columns):\n",
      " #   Column      Non-Null Count  Dtype \n",
      "---  ------      --------------  ----- \n",
      " 0   HINC        210 non-null    object\n",
      " 1   PSIZE       210 non-null    object\n",
      " 2   TTME_AIR    210 non-null    object\n",
      " 3   TTME_TRAIN  210 non-null    object\n",
      " 4   TTME_BUS    210 non-null    object\n",
      " 5   INVC_AIR    210 non-null    object\n",
      " 6   INVC_TRAIN  210 non-null    object\n",
      " 7   INVC_BUS    210 non-null    object\n",
      " 8   INVC_CAR    210 non-null    object\n",
      " 9   INVT_AIR    210 non-null    object\n",
      " 10  INVT_TRAIN  210 non-null    object\n",
      " 11  INVT_BUS    210 non-null    object\n",
      " 12  INVT_CAR    210 non-null    object\n",
      " 13  y           210 non-null    object\n",
      "dtypes: object(14)\n",
      "memory usage: 24.6+ KB\n"
     ]
    }
   ],
   "source": [
    "model_data.info()"
   ]
  },
  {
   "cell_type": "code",
   "execution_count": 17,
   "metadata": {},
   "outputs": [],
   "source": [
    "model_data = model_data.dropna()\n",
    "model_data = model_data.fillna(0)"
   ]
  },
  {
   "cell_type": "code",
   "execution_count": 18,
   "metadata": {},
   "outputs": [],
   "source": [
    "model_data['HINC'] = model_data['HINC'].astype(float)"
   ]
  },
  {
   "cell_type": "code",
   "execution_count": 19,
   "metadata": {},
   "outputs": [
    {
     "data": {
      "text/html": [
       "<div>\n",
       "<style scoped>\n",
       "    .dataframe tbody tr th:only-of-type {\n",
       "        vertical-align: middle;\n",
       "    }\n",
       "\n",
       "    .dataframe tbody tr th {\n",
       "        vertical-align: top;\n",
       "    }\n",
       "\n",
       "    .dataframe thead th {\n",
       "        text-align: right;\n",
       "    }\n",
       "</style>\n",
       "<table border=\"1\" class=\"dataframe\">\n",
       "  <thead>\n",
       "    <tr style=\"text-align: right;\">\n",
       "      <th></th>\n",
       "      <th>HINC</th>\n",
       "      <th>PSIZE</th>\n",
       "      <th>TTME_AIR</th>\n",
       "      <th>TTME_TRAIN</th>\n",
       "      <th>TTME_BUS</th>\n",
       "      <th>INVC_AIR</th>\n",
       "      <th>INVC_TRAIN</th>\n",
       "      <th>INVC_BUS</th>\n",
       "      <th>INVC_CAR</th>\n",
       "      <th>INVT_AIR</th>\n",
       "      <th>INVT_TRAIN</th>\n",
       "      <th>INVT_BUS</th>\n",
       "      <th>INVT_CAR</th>\n",
       "      <th>y</th>\n",
       "    </tr>\n",
       "    <tr>\n",
       "      <th>OBS_ID</th>\n",
       "      <th></th>\n",
       "      <th></th>\n",
       "      <th></th>\n",
       "      <th></th>\n",
       "      <th></th>\n",
       "      <th></th>\n",
       "      <th></th>\n",
       "      <th></th>\n",
       "      <th></th>\n",
       "      <th></th>\n",
       "      <th></th>\n",
       "      <th></th>\n",
       "      <th></th>\n",
       "      <th></th>\n",
       "    </tr>\n",
       "  </thead>\n",
       "  <tbody>\n",
       "    <tr>\n",
       "      <th>0</th>\n",
       "      <td>35.0</td>\n",
       "      <td>1</td>\n",
       "      <td>69</td>\n",
       "      <td>34</td>\n",
       "      <td>35</td>\n",
       "      <td>59</td>\n",
       "      <td>31</td>\n",
       "      <td>25</td>\n",
       "      <td>10</td>\n",
       "      <td>100</td>\n",
       "      <td>372</td>\n",
       "      <td>417</td>\n",
       "      <td>180</td>\n",
       "      <td>1</td>\n",
       "    </tr>\n",
       "    <tr>\n",
       "      <th>1</th>\n",
       "      <td>30.0</td>\n",
       "      <td>2</td>\n",
       "      <td>64</td>\n",
       "      <td>44</td>\n",
       "      <td>53</td>\n",
       "      <td>58</td>\n",
       "      <td>31</td>\n",
       "      <td>25</td>\n",
       "      <td>11</td>\n",
       "      <td>68</td>\n",
       "      <td>354</td>\n",
       "      <td>399</td>\n",
       "      <td>255</td>\n",
       "      <td>1</td>\n",
       "    </tr>\n",
       "    <tr>\n",
       "      <th>2</th>\n",
       "      <td>40.0</td>\n",
       "      <td>1</td>\n",
       "      <td>69</td>\n",
       "      <td>34</td>\n",
       "      <td>35</td>\n",
       "      <td>115</td>\n",
       "      <td>98</td>\n",
       "      <td>53</td>\n",
       "      <td>23</td>\n",
       "      <td>125</td>\n",
       "      <td>892</td>\n",
       "      <td>882</td>\n",
       "      <td>720</td>\n",
       "      <td>1</td>\n",
       "    </tr>\n",
       "    <tr>\n",
       "      <th>3</th>\n",
       "      <td>70.0</td>\n",
       "      <td>3</td>\n",
       "      <td>64</td>\n",
       "      <td>44</td>\n",
       "      <td>53</td>\n",
       "      <td>49</td>\n",
       "      <td>26</td>\n",
       "      <td>21</td>\n",
       "      <td>5</td>\n",
       "      <td>68</td>\n",
       "      <td>354</td>\n",
       "      <td>399</td>\n",
       "      <td>180</td>\n",
       "      <td>1</td>\n",
       "    </tr>\n",
       "    <tr>\n",
       "      <th>4</th>\n",
       "      <td>45.0</td>\n",
       "      <td>2</td>\n",
       "      <td>64</td>\n",
       "      <td>44</td>\n",
       "      <td>53</td>\n",
       "      <td>60</td>\n",
       "      <td>32</td>\n",
       "      <td>26</td>\n",
       "      <td>8</td>\n",
       "      <td>144</td>\n",
       "      <td>404</td>\n",
       "      <td>449</td>\n",
       "      <td>600</td>\n",
       "      <td>1</td>\n",
       "    </tr>\n",
       "  </tbody>\n",
       "</table>\n",
       "</div>"
      ],
      "text/plain": [
       "        HINC  PSIZE  TTME_AIR  TTME_TRAIN  TTME_BUS  INVC_AIR  INVC_TRAIN  \\\n",
       "OBS_ID                                                                      \n",
       "0       35.0      1        69          34        35        59          31   \n",
       "1       30.0      2        64          44        53        58          31   \n",
       "2       40.0      1        69          34        35       115          98   \n",
       "3       70.0      3        64          44        53        49          26   \n",
       "4       45.0      2        64          44        53        60          32   \n",
       "\n",
       "        INVC_BUS  INVC_CAR  INVT_AIR  INVT_TRAIN  INVT_BUS  INVT_CAR  y  \n",
       "OBS_ID                                                                   \n",
       "0             25        10       100         372       417       180  1  \n",
       "1             25        11        68         354       399       255  1  \n",
       "2             53        23       125         892       882       720  1  \n",
       "3             21         5        68         354       399       180  1  \n",
       "4             26         8       144         404       449       600  1  "
      ]
     },
     "execution_count": 19,
     "metadata": {},
     "output_type": "execute_result"
    }
   ],
   "source": [
    "model_data.head(5)"
   ]
  },
  {
   "cell_type": "markdown",
   "metadata": {},
   "source": [
    "## 3. Single variable analysis"
   ]
  },
  {
   "cell_type": "code",
   "execution_count": 20,
   "metadata": {},
   "outputs": [
    {
     "data": {
      "text/plain": [
       "0.0024577358937625327"
      ]
     },
     "execution_count": 20,
     "metadata": {},
     "output_type": "execute_result"
    }
   ],
   "source": [
    "# Discrete variables analysis\n",
    "crosstab = pd.crosstab(model_data['y'], model_data['PSIZE'])\n",
    "p = scipy.stats.chi2_contingency(crosstab)[1]\n",
    "p"
   ]
  },
  {
   "cell_type": "code",
   "execution_count": 21,
   "metadata": {},
   "outputs": [
    {
     "name": "stdout",
     "output_type": "stream",
     "text": [
      "Optimization terminated successfully.\n",
      "         Current function value: 0.592252\n",
      "         Iterations 4\n",
      "INVT_CAR p value: 0.000000\n",
      "AUC: 0.624256\n"
     ]
    }
   ],
   "source": [
    "# Continuous variables analysis\n",
    "logistic = sm.Logit(model_data['y'], model_data['INVT_CAR']).fit()\n",
    "p = logistic.pvalues['INVT_CAR']\n",
    "y_predict = logistic.predict(model_data['INVT_CAR'])\n",
    "AUC = metrics.roc_auc_score(model_data['y'], y_predict)\n",
    "print('INVT_CAR p value: %.6f' % p)\n",
    "print('AUC: %.6f' % AUC)"
   ]
  },
  {
   "cell_type": "markdown",
   "metadata": {},
   "source": [
    "## 4. Multicollinearity test"
   ]
  },
  {
   "cell_type": "code",
   "execution_count": 22,
   "metadata": {},
   "outputs": [],
   "source": [
    "from statsmodels.stats.outliers_influence import variance_inflation_factor"
   ]
  },
  {
   "cell_type": "code",
   "execution_count": 23,
   "metadata": {},
   "outputs": [
    {
     "data": {
      "text/html": [
       "<div>\n",
       "<style scoped>\n",
       "    .dataframe tbody tr th:only-of-type {\n",
       "        vertical-align: middle;\n",
       "    }\n",
       "\n",
       "    .dataframe tbody tr th {\n",
       "        vertical-align: top;\n",
       "    }\n",
       "\n",
       "    .dataframe thead th {\n",
       "        text-align: right;\n",
       "    }\n",
       "</style>\n",
       "<table border=\"1\" class=\"dataframe\">\n",
       "  <thead>\n",
       "    <tr style=\"text-align: right;\">\n",
       "      <th></th>\n",
       "      <th>VIF Factor</th>\n",
       "      <th>features</th>\n",
       "    </tr>\n",
       "  </thead>\n",
       "  <tbody>\n",
       "    <tr>\n",
       "      <th>0</th>\n",
       "      <td>14.229424</td>\n",
       "      <td>INVT_AIR</td>\n",
       "    </tr>\n",
       "    <tr>\n",
       "      <th>1</th>\n",
       "      <td>72.782420</td>\n",
       "      <td>INVT_TRAIN</td>\n",
       "    </tr>\n",
       "    <tr>\n",
       "      <th>2</th>\n",
       "      <td>80.279742</td>\n",
       "      <td>INVT_BUS</td>\n",
       "    </tr>\n",
       "    <tr>\n",
       "      <th>3</th>\n",
       "      <td>35.003438</td>\n",
       "      <td>INVT_CAR</td>\n",
       "    </tr>\n",
       "  </tbody>\n",
       "</table>\n",
       "</div>"
      ],
      "text/plain": [
       "   VIF Factor    features\n",
       "0   14.229424    INVT_AIR\n",
       "1   72.782420  INVT_TRAIN\n",
       "2   80.279742    INVT_BUS\n",
       "3   35.003438    INVT_CAR"
      ]
     },
     "execution_count": 23,
     "metadata": {},
     "output_type": "execute_result"
    }
   ],
   "source": [
    "X = model_data[['INVT_' + item for item in modes]]\n",
    "vif = pd.DataFrame()\n",
    "vif['VIF Factor'] = [variance_inflation_factor(X.values, i) for i in range(X.shape[1])]\n",
    "vif['features'] = X.columns\n",
    "vif"
   ]
  },
  {
   "cell_type": "markdown",
   "metadata": {},
   "source": [
    "## 5. LR model building"
   ]
  },
  {
   "cell_type": "code",
   "execution_count": 24,
   "metadata": {},
   "outputs": [],
   "source": [
    "# variables with high VIF are excluded from the model\n",
    "X = model_data[['HINC', 'PSIZE', 'TTME_TRAIN', 'INVC_CAR']]\n",
    "y = model_data['y']\n",
    "\n",
    "dummies = pd.get_dummies(X['PSIZE'], drop_first=False)\n",
    "dummies.columns = ['PSIZE_' + str(x) for x in dummies.columns.values]\n",
    "X = pd.concat([X, dummies], axis=1)"
   ]
  },
  {
   "cell_type": "code",
   "execution_count": 25,
   "metadata": {},
   "outputs": [],
   "source": [
    "X = X.drop(columns = ['PSIZE', 'PSIZE_4', 'PSIZE_5', 'PSIZE_6'])"
   ]
  },
  {
   "cell_type": "code",
   "execution_count": 26,
   "metadata": {},
   "outputs": [],
   "source": [
    "X['Intercept'] = 1"
   ]
  },
  {
   "cell_type": "code",
   "execution_count": 27,
   "metadata": {},
   "outputs": [],
   "source": [
    "X_train, X_test, y_train, y_test = train_test_split(X, y, train_size=.8, random_state=1234)"
   ]
  },
  {
   "cell_type": "code",
   "execution_count": 28,
   "metadata": {},
   "outputs": [
    {
     "name": "stdout",
     "output_type": "stream",
     "text": [
      "Optimization terminated successfully.\n",
      "         Current function value: 0.509064\n",
      "         Iterations 6\n"
     ]
    },
    {
     "data": {
      "text/html": [
       "<table class=\"simpletable\">\n",
       "<tr>\n",
       "        <td>Model:</td>              <td>Logit</td>      <td>Pseudo R-squared:</td>    <td>0.149</td>  \n",
       "</tr>\n",
       "<tr>\n",
       "  <td>Dependent Variable:</td>         <td>y</td>              <td>AIC:</td>         <td>185.0455</td> \n",
       "</tr>\n",
       "<tr>\n",
       "         <td>Date:</td>        <td>2021-07-05 15:39</td>       <td>BIC:</td>         <td>206.9133</td> \n",
       "</tr>\n",
       "<tr>\n",
       "   <td>No. Observations:</td>         <td>168</td>        <td>Log-Likelihood:</td>    <td>-85.523</td> \n",
       "</tr>\n",
       "<tr>\n",
       "       <td>Df Model:</td>              <td>6</td>            <td>LL-Null:</td>        <td>-100.51</td> \n",
       "</tr>\n",
       "<tr>\n",
       "     <td>Df Residuals:</td>           <td>161</td>         <td>LLR p-value:</td>    <td>3.9775e-05</td>\n",
       "</tr>\n",
       "<tr>\n",
       "      <td>Converged:</td>           <td>1.0000</td>           <td>Scale:</td>         <td>1.0000</td>  \n",
       "</tr>\n",
       "<tr>\n",
       "    <td>No. Iterations:</td>        <td>6.0000</td>              <td></td>               <td></td>     \n",
       "</tr>\n",
       "</table>\n",
       "<table class=\"simpletable\">\n",
       "<tr>\n",
       "       <td></td>       <th>Coef.</th>  <th>Std.Err.</th>    <th>z</th>     <th>P>|z|</th> <th>[0.025</th>  <th>0.975]</th> \n",
       "</tr>\n",
       "<tr>\n",
       "  <th>HINC</th>       <td>0.0264</td>   <td>0.0100</td>  <td>2.6477</td>  <td>0.0081</td> <td>0.0068</td>  <td>0.0459</td> \n",
       "</tr>\n",
       "<tr>\n",
       "  <th>TTME_TRAIN</th> <td>0.0389</td>   <td>0.0195</td>  <td>1.9916</td>  <td>0.0464</td> <td>0.0006</td>  <td>0.0772</td> \n",
       "</tr>\n",
       "<tr>\n",
       "  <th>INVC_CAR</th>   <td>-0.0512</td>  <td>0.0204</td>  <td>-2.5103</td> <td>0.0121</td> <td>-0.0913</td> <td>-0.0112</td>\n",
       "</tr>\n",
       "<tr>\n",
       "  <th>PSIZE_1</th>    <td>-0.3077</td>  <td>0.7317</td>  <td>-0.4206</td> <td>0.6741</td> <td>-1.7419</td> <td>1.1264</td> \n",
       "</tr>\n",
       "<tr>\n",
       "  <th>PSIZE_2</th>    <td>-1.0800</td>  <td>0.6417</td>  <td>-1.6829</td> <td>0.0924</td> <td>-2.3378</td> <td>0.1778</td> \n",
       "</tr>\n",
       "<tr>\n",
       "  <th>PSIZE_3</th>    <td>-0.7585</td>  <td>0.7582</td>  <td>-1.0004</td> <td>0.3171</td> <td>-2.2444</td> <td>0.7275</td> \n",
       "</tr>\n",
       "<tr>\n",
       "  <th>Intercept</th>  <td>-1.8879</td>  <td>1.1138</td>  <td>-1.6951</td> <td>0.0901</td> <td>-4.0708</td> <td>0.2950</td> \n",
       "</tr>\n",
       "</table>"
      ],
      "text/plain": [
       "<class 'statsmodels.iolib.summary2.Summary'>\n",
       "\"\"\"\n",
       "                         Results: Logit\n",
       "=================================================================\n",
       "Model:              Logit            Pseudo R-squared: 0.149     \n",
       "Dependent Variable: y                AIC:              185.0455  \n",
       "Date:               2021-07-05 15:39 BIC:              206.9133  \n",
       "No. Observations:   168              Log-Likelihood:   -85.523   \n",
       "Df Model:           6                LL-Null:          -100.51   \n",
       "Df Residuals:       161              LLR p-value:      3.9775e-05\n",
       "Converged:          1.0000           Scale:            1.0000    \n",
       "No. Iterations:     6.0000                                       \n",
       "------------------------------------------------------------------\n",
       "               Coef.   Std.Err.     z     P>|z|    [0.025   0.975]\n",
       "------------------------------------------------------------------\n",
       "HINC           0.0264    0.0100   2.6477  0.0081   0.0068   0.0459\n",
       "TTME_TRAIN     0.0389    0.0195   1.9916  0.0464   0.0006   0.0772\n",
       "INVC_CAR      -0.0512    0.0204  -2.5103  0.0121  -0.0913  -0.0112\n",
       "PSIZE_1       -0.3077    0.7317  -0.4206  0.6741  -1.7419   1.1264\n",
       "PSIZE_2       -1.0800    0.6417  -1.6829  0.0924  -2.3378   0.1778\n",
       "PSIZE_3       -0.7585    0.7582  -1.0004  0.3171  -2.2444   0.7275\n",
       "Intercept     -1.8879    1.1138  -1.6951  0.0901  -4.0708   0.2950\n",
       "=================================================================\n",
       "\n",
       "\"\"\""
      ]
     },
     "execution_count": 28,
     "metadata": {},
     "output_type": "execute_result"
    }
   ],
   "source": [
    "logistic = sm.Logit(y_train, X_train).fit()\n",
    "logistic.summary2()"
   ]
  },
  {
   "cell_type": "code",
   "execution_count": 29,
   "metadata": {},
   "outputs": [
    {
     "name": "stdout",
     "output_type": "stream",
     "text": [
      "train set AUC: 0.753385\n",
      "test set AUC: 0.651026\n"
     ]
    }
   ],
   "source": [
    "print(\"train set AUC: %.6f\" % metrics.roc_auc_score(y_train, logistic.predict(X_train)))\n",
    "print(\"test set AUC: %.6f\" % metrics.roc_auc_score(y_test, logistic.predict(X_test)))"
   ]
  },
  {
   "cell_type": "markdown",
   "metadata": {},
   "source": [
    "## 6. Amend model"
   ]
  },
  {
   "cell_type": "code",
   "execution_count": 30,
   "metadata": {},
   "outputs": [],
   "source": [
    "X = X.drop(columns=['PSIZE_1', 'PSIZE_2', 'PSIZE_3'])"
   ]
  },
  {
   "cell_type": "code",
   "execution_count": 31,
   "metadata": {},
   "outputs": [
    {
     "name": "stdout",
     "output_type": "stream",
     "text": [
      "Optimization terminated successfully.\n",
      "         Current function value: 0.521493\n",
      "         Iterations 6\n"
     ]
    },
    {
     "data": {
      "text/html": [
       "<table class=\"simpletable\">\n",
       "<tr>\n",
       "        <td>Model:</td>              <td>Logit</td>      <td>Pseudo R-squared:</td>    <td>0.128</td>  \n",
       "</tr>\n",
       "<tr>\n",
       "  <td>Dependent Variable:</td>         <td>y</td>              <td>AIC:</td>         <td>183.2216</td> \n",
       "</tr>\n",
       "<tr>\n",
       "         <td>Date:</td>        <td>2021-07-05 15:39</td>       <td>BIC:</td>         <td>195.7174</td> \n",
       "</tr>\n",
       "<tr>\n",
       "   <td>No. Observations:</td>         <td>168</td>        <td>Log-Likelihood:</td>    <td>-87.611</td> \n",
       "</tr>\n",
       "<tr>\n",
       "       <td>Df Model:</td>              <td>3</td>            <td>LL-Null:</td>        <td>-100.51</td> \n",
       "</tr>\n",
       "<tr>\n",
       "     <td>Df Residuals:</td>           <td>164</td>         <td>LLR p-value:</td>    <td>1.0518e-05</td>\n",
       "</tr>\n",
       "<tr>\n",
       "      <td>Converged:</td>           <td>1.0000</td>           <td>Scale:</td>         <td>1.0000</td>  \n",
       "</tr>\n",
       "<tr>\n",
       "    <td>No. Iterations:</td>        <td>6.0000</td>              <td></td>               <td></td>     \n",
       "</tr>\n",
       "</table>\n",
       "<table class=\"simpletable\">\n",
       "<tr>\n",
       "       <td></td>       <th>Coef.</th>  <th>Std.Err.</th>    <th>z</th>     <th>P>|z|</th> <th>[0.025</th>  <th>0.975]</th> \n",
       "</tr>\n",
       "<tr>\n",
       "  <th>HINC</th>       <td>0.0266</td>   <td>0.0096</td>  <td>2.7731</td>  <td>0.0056</td> <td>0.0078</td>  <td>0.0454</td> \n",
       "</tr>\n",
       "<tr>\n",
       "  <th>TTME_TRAIN</th> <td>0.0335</td>   <td>0.0161</td>  <td>2.0838</td>  <td>0.0372</td> <td>0.0020</td>  <td>0.0650</td> \n",
       "</tr>\n",
       "<tr>\n",
       "  <th>INVC_CAR</th>   <td>-0.0450</td>  <td>0.0168</td>  <td>-2.6805</td> <td>0.0074</td> <td>-0.0778</td> <td>-0.0121</td>\n",
       "</tr>\n",
       "<tr>\n",
       "  <th>Intercept</th>  <td>-2.3486</td>  <td>0.8275</td>  <td>-2.8384</td> <td>0.0045</td> <td>-3.9704</td> <td>-0.7269</td>\n",
       "</tr>\n",
       "</table>"
      ],
      "text/plain": [
       "<class 'statsmodels.iolib.summary2.Summary'>\n",
       "\"\"\"\n",
       "                         Results: Logit\n",
       "=================================================================\n",
       "Model:              Logit            Pseudo R-squared: 0.128     \n",
       "Dependent Variable: y                AIC:              183.2216  \n",
       "Date:               2021-07-05 15:39 BIC:              195.7174  \n",
       "No. Observations:   168              Log-Likelihood:   -87.611   \n",
       "Df Model:           3                LL-Null:          -100.51   \n",
       "Df Residuals:       164              LLR p-value:      1.0518e-05\n",
       "Converged:          1.0000           Scale:            1.0000    \n",
       "No. Iterations:     6.0000                                       \n",
       "------------------------------------------------------------------\n",
       "               Coef.   Std.Err.     z     P>|z|    [0.025   0.975]\n",
       "------------------------------------------------------------------\n",
       "HINC           0.0266    0.0096   2.7731  0.0056   0.0078   0.0454\n",
       "TTME_TRAIN     0.0335    0.0161   2.0838  0.0372   0.0020   0.0650\n",
       "INVC_CAR      -0.0450    0.0168  -2.6805  0.0074  -0.0778  -0.0121\n",
       "Intercept     -2.3486    0.8275  -2.8384  0.0045  -3.9704  -0.7269\n",
       "=================================================================\n",
       "\n",
       "\"\"\""
      ]
     },
     "execution_count": 31,
     "metadata": {},
     "output_type": "execute_result"
    }
   ],
   "source": [
    "X_train, X_test, y_train, y_test = train_test_split(X, y, train_size=.8, random_state=1234)\n",
    "logistic = sm.Logit(y_train, X_train).fit()\n",
    "logistic.summary2()"
   ]
  },
  {
   "cell_type": "code",
   "execution_count": 32,
   "metadata": {},
   "outputs": [
    {
     "name": "stdout",
     "output_type": "stream",
     "text": [
      "train set AUC: 0.734462\n",
      "test set AUC: 0.741935\n"
     ]
    }
   ],
   "source": [
    "print(\"train set AUC: %.6f\" % metrics.roc_auc_score(y_train, logistic.predict(X_train)))\n",
    "print(\"test set AUC: %.6f\" % metrics.roc_auc_score(y_test, logistic.predict(X_test)))"
   ]
  },
  {
   "cell_type": "code",
   "execution_count": null,
   "metadata": {},
   "outputs": [],
   "source": []
  }
 ],
 "metadata": {
  "kernelspec": {
   "display_name": "Python3.7",
   "language": "python",
   "name": "python3"
  },
  "language_info": {
   "codemirror_mode": {
    "name": "ipython",
    "version": 3
   },
   "file_extension": ".py",
   "mimetype": "text/x-python",
   "name": "python",
   "nbconvert_exporter": "python",
   "pygments_lexer": "ipython3",
   "version": "3.7.7"
  },
  "latex_envs": {
   "LaTeX_envs_menu_present": true,
   "autoclose": false,
   "autocomplete": true,
   "bibliofile": "biblio.bib",
   "cite_by": "apalike",
   "current_citInitial": 1,
   "eqLabelWithNumbers": true,
   "eqNumInitial": 1,
   "hotkeys": {
    "equation": "Ctrl-E",
    "itemize": "Ctrl-I"
   },
   "labels_anchors": false,
   "latex_user_defs": false,
   "report_style_numbering": false,
   "user_envs_cfg": false
  }
 },
 "nbformat": 4,
 "nbformat_minor": 2
}
